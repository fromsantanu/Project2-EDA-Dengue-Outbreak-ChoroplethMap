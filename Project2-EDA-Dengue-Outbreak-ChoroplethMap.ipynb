{
 "cells": [
  {
   "cell_type": "markdown",
   "id": "cedc9485",
   "metadata": {},
   "source": [
    "# Choropleth Map\n",
    "\n",
    "Display the distribution of dengue cases across different states or regions in India. This visualizes the geographic spread and intensity of outbreaks."
   ]
  },
  {
   "cell_type": "markdown",
   "id": "21c5f666",
   "metadata": {},
   "source": [
    "### Inspect: \n",
    "\n",
    "Run the inspection code to find the correct column name for state identifiers."
   ]
  },
  {
   "cell_type": "code",
   "execution_count": 6,
   "id": "fe0366ac",
   "metadata": {
    "scrolled": true
   },
   "outputs": [
    {
     "name": "stdout",
     "output_type": "stream",
     "text": [
      "Columns in GeoDataFrame: Index(['ID_0', 'ISO', 'NAME_0', 'ID_1', 'NAME_1', 'geometry'], dtype='object')\n",
      "First few rows of the GeoDataFrame:\n",
      "   ID_0  ISO NAME_0  ID_1               NAME_1  \\\n",
      "0   105  IND  India     1  Andaman and Nicobar   \n",
      "1   105  IND  India    36            Telangana   \n",
      "2   105  IND  India     2       Andhra Pradesh   \n",
      "3   105  IND  India     3    Arunachal Pradesh   \n",
      "4   105  IND  India     4                Assam   \n",
      "\n",
      "                                            geometry  \n",
      "0  MULTIPOLYGON (((93.78773 6.85264, 93.78849 6.8...  \n",
      "1  POLYGON ((77.50945 15.92086, 77.51458 15.94343...  \n",
      "2  MULTIPOLYGON (((80.27458 13.45958, 80.27458 13...  \n",
      "3  POLYGON ((96.15778 29.38310, 96.16380 29.37668...  \n",
      "4  MULTIPOLYGON (((89.87145 25.53730, 89.87118 25...  \n"
     ]
    }
   ],
   "source": [
    "import geopandas as gpd\n",
    "\n",
    "# Load the geospatial data for Indian states\n",
    "geo_data_url = 'https://raw.githubusercontent.com/geohacker/india/master/state/india_telengana.geojson'\n",
    "geo_data = gpd.read_file(geo_data_url)\n",
    "\n",
    "# Inspect the GeoDataFrame\n",
    "print(\"Columns in GeoDataFrame:\", geo_data.columns)\n",
    "print(\"First few rows of the GeoDataFrame:\")\n",
    "print(geo_data.head())"
   ]
  },
  {
   "cell_type": "markdown",
   "id": "34e305c0",
   "metadata": {},
   "source": [
    "### Generate the Choropleth Map"
   ]
  },
  {
   "cell_type": "code",
   "execution_count": 12,
   "id": "8822969a",
   "metadata": {},
   "outputs": [
    {
     "name": "stdout",
     "output_type": "stream",
     "text": [
      "Choropleth map saved as dengue_cases_choropleth_map.html\n"
     ]
    },
    {
     "data": {
      "text/html": [
       "\n",
       "        <iframe\n",
       "            width=\"600\"\n",
       "            height=\"600\"\n",
       "            src=\"dengue_cases_choropleth_map.html\"\n",
       "            frameborder=\"0\"\n",
       "            allowfullscreen\n",
       "            \n",
       "        ></iframe>\n",
       "        "
      ],
      "text/plain": [
       "<IPython.lib.display.IFrame at 0x24f6054b4f0>"
      ]
     },
     "metadata": {},
     "output_type": "display_data"
    }
   ],
   "source": [
    "import geopandas as gpd\n",
    "import pandas as pd\n",
    "import folium\n",
    "from IPython.display import display, IFrame\n",
    "\n",
    "# Load the geospatial data for Indian states\n",
    "geo_data_url = 'https://raw.githubusercontent.com/geohacker/india/master/state/india_telengana.geojson'\n",
    "geo_data = gpd.read_file(geo_data_url)\n",
    "\n",
    "# Print the columns and a few rows to confirm the correct state name column\n",
    "'''\n",
    "print(\"Columns in GeoDataFrame:\", geo_data.columns)\n",
    "print(\"First few rows of the GeoDataFrame:\")\n",
    "print(geo_data.head())\n",
    "'''\n",
    "\n",
    "# Confirmed state name column is 'NAME_1'\n",
    "state_name_column = 'NAME_1'\n",
    "\n",
    "# Sample data for dengue cases per state (ensure these state names match those in geo_data)\n",
    "dengue_cases = {\n",
    "    'State': ['Uttar Pradesh', 'Maharashtra', 'Bihar', 'West Bengal', 'Tamil Nadu', 'Rajasthan'],\n",
    "    'Cases': [15000, 12000, 9000, 8500, 8000, 7000]\n",
    "}\n",
    "\n",
    "# Create a DataFrame from the dengue cases data\n",
    "df_cases = pd.DataFrame(dengue_cases)\n",
    "\n",
    "# Standardize the state names to ensure matching\n",
    "df_cases['State'] = df_cases['State'].str.strip().str.title()\n",
    "\n",
    "# Get the unique state names from both datasets for comparison\n",
    "geo_state_names = geo_data[state_name_column].str.strip().str.title().unique()\n",
    "dengue_state_names = df_cases['State'].unique()\n",
    "\n",
    "# Find mismatches between the two sets of state names\n",
    "mismatched_states = set(dengue_state_names) - set(geo_state_names)\n",
    "missing_states_in_data = set(geo_state_names) - set(dengue_state_names)\n",
    "\n",
    "# Print mismatches if any\n",
    "'''\n",
    "if mismatched_states:\n",
    "    print(\"States in dengue data but not in GeoDataFrame:\", mismatched_states)\n",
    "else:\n",
    "    print(\"All state names in dengue data match those in the GeoDataFrame.\")\n",
    "\n",
    "if missing_states_in_data:\n",
    "    print(\"States in GeoDataFrame but not in dengue data:\", missing_states_in_data)\n",
    "else:\n",
    "    print(\"All states in the GeoDataFrame are represented in the dengue data.\")\n",
    "\n",
    "'''\n",
    "# Merge the geospatial data with the dengue cases data, keeping 'NAME_1' as a column\n",
    "merged_data = geo_data.set_index(state_name_column).join(df_cases.set_index('State')).reset_index()\n",
    "\n",
    "# Filter merged_data to include only rows with data in 'Cases' column\n",
    "merged_data = merged_data.dropna(subset=['Cases'])\n",
    "\n",
    "# Check if the merge was successful\n",
    "'''\n",
    "print(\"Merged DataFrame head:\")\n",
    "print(merged_data.head())\n",
    "'''\n",
    "\n",
    "# Create a base map centered around India\n",
    "m = folium.Map(location=[20.5937, 78.9629], zoom_start=5, tiles='cartodb positron')\n",
    "\n",
    "# Add the choropleth map\n",
    "folium.Choropleth(\n",
    "    geo_data=geo_data,\n",
    "    name='choropleth',\n",
    "    data=merged_data,\n",
    "    columns=[state_name_column, 'Cases'],\n",
    "    key_on=f'feature.properties.{state_name_column}',\n",
    "    fill_color='YlOrRd',\n",
    "    fill_opacity=0.7,\n",
    "    line_opacity=0.2,\n",
    "    legend_name='Dengue Cases',\n",
    "    nan_fill_color='white'  # Fill color for states without data\n",
    ").add_to(m)\n",
    "\n",
    "# Add state borders for better clarity\n",
    "folium.GeoJson(\n",
    "    geo_data,\n",
    "    style_function=lambda feature: {\n",
    "        'color': 'black',\n",
    "        'weight': 1,\n",
    "        'fillOpacity': 0\n",
    "    }\n",
    ").add_to(m)\n",
    "\n",
    "# Save the map to an HTML file\n",
    "map_file = 'dengue_cases_choropleth_map.html'\n",
    "m.save(map_file)\n",
    "\n",
    "print(f\"Choropleth map saved as {map_file}\")\n",
    "\n",
    "\n",
    "# Display the map in the notebook\n",
    "display(IFrame(map_file, width=600, height=600))\n",
    "\n"
   ]
  },
  {
   "cell_type": "code",
   "execution_count": null,
   "id": "46c023f1",
   "metadata": {},
   "outputs": [],
   "source": []
  }
 ],
 "metadata": {
  "kernelspec": {
   "display_name": "Python 3 (ipykernel)",
   "language": "python",
   "name": "python3"
  },
  "language_info": {
   "codemirror_mode": {
    "name": "ipython",
    "version": 3
   },
   "file_extension": ".py",
   "mimetype": "text/x-python",
   "name": "python",
   "nbconvert_exporter": "python",
   "pygments_lexer": "ipython3",
   "version": "3.10.14"
  }
 },
 "nbformat": 4,
 "nbformat_minor": 5
}
